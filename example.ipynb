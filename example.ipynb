{
 "cells": [
  {
   "cell_type": "markdown",
   "source": [
    "# EXAMPLE\r\n",
    "Deze notebook bevat voorbeelden voor het gebruik van de functies en code in deze repository."
   ],
   "metadata": {}
  },
  {
   "cell_type": "markdown",
   "source": [
    "## Import Packages\r\n",
    "Deze cellen importeren de benodigde packages en codes."
   ],
   "metadata": {}
  },
  {
   "cell_type": "code",
   "execution_count": 1,
   "source": [
    "# import all methods from scraper in folder /code\r\n",
    "# from code.scraper import * #alleen als deze package is geïnstalleerd in je environment\r\n",
    "import sys; sys.path.append('./code') # import scraper vanuit de relatieve folder in dit project (dus niet vanuit je python environment)\r\n",
    "from utils import *"
   ],
   "outputs": [],
   "metadata": {}
  },
  {
   "cell_type": "markdown",
   "source": [
    "## Methods\r\n",
    "De volgende cellen laten een voorbeeld zien van alle methodes/functies in de scraper package"
   ],
   "metadata": {}
  },
  {
   "cell_type": "markdown",
   "source": [
    "### `pdf_extractor(file)`\r\n",
    "\r\n",
    "Deze functie neemt een filepath string naar een file in .pdf format en converteert die naar .txt format en returned een list met daarin de string per pagina. "
   ],
   "metadata": {}
  },
  {
   "cell_type": "markdown",
   "source": [
    "### `scrub(text)`\r\n",
    "Deze functie neemt een string en schoont die op aan de hand van bepaalde regels. `pdf_extractor()` returned een file waar soms unicode instances in kunnen staan die lastig leesbaar zijn."
   ],
   "metadata": {}
  },
  {
   "cell_type": "code",
   "execution_count": 2,
   "source": [
    "text = '\\\\n Lorem ipsum dolor sit amet, \\\\uf0ac'\r\n",
    "scrub(text)"
   ],
   "outputs": [
    {
     "output_type": "execute_result",
     "data": {
      "text/plain": [
       "' Lorem ipsum dolor sit amet, '"
      ]
     },
     "metadata": {},
     "execution_count": 2
    }
   ],
   "metadata": {}
  },
  {
   "cell_type": "markdown",
   "source": [
    "### `lower(data)`\r\n",
    "Deze functie neemt een string en returned een string waarin alle uppercase characters zijn vervangen door lowercas."
   ],
   "metadata": {}
  },
  {
   "cell_type": "code",
   "execution_count": 3,
   "source": [
    "data = 'DINGEN en Dingen en dingen'\r\n",
    "lower(data)"
   ],
   "outputs": [
    {
     "output_type": "execute_result",
     "data": {
      "text/plain": [
       "'dingen en dingen en dingen'"
      ]
     },
     "metadata": {},
     "execution_count": 3
    }
   ],
   "metadata": {}
  },
  {
   "cell_type": "markdown",
   "source": [
    "### `remove_net(data)`\r\n",
    "Deze functie neemt een string en verwijderd aan de hand van bepaalde hardcoded regels substrings die veelvoorkomende mail/url characters bevatten."
   ],
   "metadata": {}
  },
  {
   "cell_type": "code",
   "execution_count": 4,
   "source": [
    "data = 'Hallo, mijn email adres is mail@adres.nl op het domein adres.nl.'\r\n",
    "remove_net(data)"
   ],
   "outputs": [
    {
     "output_type": "execute_result",
     "data": {
      "text/plain": [
       "'Hallo, mijn email adres is op het domein'"
      ]
     },
     "metadata": {},
     "execution_count": 4
    }
   ],
   "metadata": {}
  },
  {
   "cell_type": "markdown",
   "source": [
    "### `remove_punctuation(data)`\r\n",
    "Deze functie neemt een string verwijderd de leestekens uit de string."
   ],
   "metadata": {}
  },
  {
   "cell_type": "code",
   "execution_count": 5,
   "source": [
    "data = 'Hallo, hoe heet jij? Ik ben mijn naam vergeten...'\r\n",
    "remove_punctuation(data)"
   ],
   "outputs": [
    {
     "output_type": "execute_result",
     "data": {
      "text/plain": [
       "'Hallo hoe heet jij Ik ben mijn naam vergeten'"
      ]
     },
     "metadata": {},
     "execution_count": 5
    }
   ],
   "metadata": {}
  },
  {
   "cell_type": "markdown",
   "source": [
    "### `remove_digit(data)`\r\n",
    "Deze functie verdwijderd getallen uit een string."
   ],
   "metadata": {}
  },
  {
   "cell_type": "code",
   "execution_count": 7,
   "source": [
    "data = 'ik ben 6 jaar oud, ik kom uit 2015'\r\n",
    "remove_digit(data)"
   ],
   "outputs": [
    {
     "output_type": "execute_result",
     "data": {
      "text/plain": [
       "'ik ben jaar oud, ik kom uit'"
      ]
     },
     "metadata": {},
     "execution_count": 7
    }
   ],
   "metadata": {}
  },
  {
   "cell_type": "markdown",
   "source": [
    "### `remove_dates(data)`\r\n",
    "Deze functie verwijderd substrings die datums bevatten zoals maanden en dagen, deze substrings zijn gehardcode."
   ],
   "metadata": {}
  },
  {
   "cell_type": "code",
   "execution_count": 2,
   "source": [
    "data = 'Ik ben geboren op een maandag in Oktober'\r\n",
    "remove_dates(data)"
   ],
   "outputs": [
    {
     "output_type": "execute_result",
     "data": {
      "text/plain": [
       "'Ik ben geboren op een in'"
      ]
     },
     "metadata": {},
     "execution_count": 2
    }
   ],
   "metadata": {}
  },
  {
   "cell_type": "markdown",
   "source": [
    "### `remove_stops(data)`\r\n",
    "Deze functie verwijderd Nederlandse stopwoorden aan de hand van de `nltk` package."
   ],
   "metadata": {}
  },
  {
   "cell_type": "code",
   "execution_count": 3,
   "source": [
    "data = 'Ik weet niet zo goed wat en hoe en zo.'\r\n",
    "remove_stops(data)"
   ],
   "outputs": [
    {
     "output_type": "execute_result",
     "data": {
      "text/plain": [
       "'Ik weet goed zo.'"
      ]
     },
     "metadata": {},
     "execution_count": 3
    }
   ],
   "metadata": {}
  },
  {
   "cell_type": "markdown",
   "source": [
    "### `map_to_func(data, funcs)`\r\n",
    "Deze functie past een reeks functies in de lijst `funcs` toe op `data`, deze functies worde in serie toegepast op de data dus de volgorde is belangrijk."
   ],
   "metadata": {}
  },
  {
   "cell_type": "code",
   "execution_count": 4,
   "source": [
    "data = 'Ik kom uit 2021 en ben nog niet eens 1 jaar oud!'\r\n",
    "funcs = [lower, remove_digit, remove_punctuation]\r\n",
    "map_to_func(data, funcs)"
   ],
   "outputs": [
    {
     "output_type": "execute_result",
     "data": {
      "text/plain": [
       "'ik kom uit en ben nog niet eens jaar oud'"
      ]
     },
     "metadata": {},
     "execution_count": 4
    }
   ],
   "metadata": {}
  },
  {
   "cell_type": "markdown",
   "source": [
    "### `tokenize(data)`\r\n",
    "Deze functie split een string in een lijst van tokens."
   ],
   "metadata": {}
  },
  {
   "cell_type": "code",
   "execution_count": 6,
   "source": [
    "data = 'Zoveel verschillende woorden.'\r\n",
    "tokenize(data)"
   ],
   "outputs": [
    {
     "output_type": "execute_result",
     "data": {
      "text/plain": [
       "['Zoveel', 'verschillende', 'woorden.']"
      ]
     },
     "metadata": {},
     "execution_count": 6
    }
   ],
   "metadata": {}
  },
  {
   "cell_type": "markdown",
   "source": [
    "### `lemmatize(text, allowed_postags=[\"NOUN\", \"ADJ\", \"VERB\", \"ADV\"])`\r\n",
    "Deze functie neemt een string en returned een lijst waarvan de substrings/tokens alleen uit de lemma van het originele worod betsaan. Deze functie gebruikt de `spacy` package."
   ],
   "metadata": {}
  },
  {
   "cell_type": "code",
   "execution_count": 7,
   "source": [
    "text = 'Hallo, wij hebben allerlei kleine dingetjes gevonden'\r\n",
    "lemmatize(text)"
   ],
   "outputs": [
    {
     "output_type": "execute_result",
     "data": {
      "text/plain": [
       "['klein', 'ding', 'vinden']"
      ]
     },
     "metadata": {},
     "execution_count": 7
    }
   ],
   "metadata": {}
  },
  {
   "cell_type": "markdown",
   "source": [
    "### `ngram(tokens, n)`\r\n",
    "Deze functie neemt een lijst van tokens en returned ngrams in tuples van lengte `n`."
   ],
   "metadata": {}
  },
  {
   "cell_type": "code",
   "execution_count": 2,
   "source": [
    "tokens = ['klein', 'ding', 'vinden']\r\n",
    "ngram(tokens, 2)"
   ],
   "outputs": [
    {
     "output_type": "execute_result",
     "data": {
      "text/plain": [
       "[('klein', 'ding'), ('ding', 'vinden')]"
      ]
     },
     "metadata": {},
     "execution_count": 2
    }
   ],
   "metadata": {}
  },
  {
   "cell_type": "markdown",
   "source": [
    "### `ngrams(tokens, n)`\r\n",
    "Deze functie neemt een iteratieve lijst (list of lists etc.) en returned ngrams in een lijst van dezelfde structuur in tuples van lengte `n`."
   ],
   "metadata": {}
  },
  {
   "cell_type": "code",
   "execution_count": 3,
   "source": [
    "tokens = [['klein', 'ding', 'vinden'], ['aap', 'noot', 'mies']]\r\n",
    "ngrams(tokens, 2)"
   ],
   "outputs": [
    {
     "output_type": "execute_result",
     "data": {
      "text/plain": [
       "[[('klein', 'ding'), ('ding', 'vinden')], [('aap', 'noot'), ('noot', 'mies')]]"
      ]
     },
     "metadata": {},
     "execution_count": 3
    }
   ],
   "metadata": {}
  },
  {
   "cell_type": "markdown",
   "source": [
    "### `onehot_matrix(tokens)`\r\n",
    "Deze functie neemt een lijst van tokens en zijt deze om in een one-hot-encoded dataframe."
   ],
   "metadata": {}
  },
  {
   "cell_type": "code",
   "execution_count": 4,
   "source": [
    "tokens = ['klein', 'ding', 'vinden']\r\n",
    "onehot_matrix(tokens)"
   ],
   "outputs": [
    {
     "output_type": "execute_result",
     "data": {
      "text/plain": [
       "   ding  klein  vinden\n",
       "0     0      1       0\n",
       "1     1      0       0\n",
       "2     0      0       1"
      ],
      "text/html": [
       "<div>\n",
       "<style scoped>\n",
       "    .dataframe tbody tr th:only-of-type {\n",
       "        vertical-align: middle;\n",
       "    }\n",
       "\n",
       "    .dataframe tbody tr th {\n",
       "        vertical-align: top;\n",
       "    }\n",
       "\n",
       "    .dataframe thead th {\n",
       "        text-align: right;\n",
       "    }\n",
       "</style>\n",
       "<table border=\"1\" class=\"dataframe\">\n",
       "  <thead>\n",
       "    <tr style=\"text-align: right;\">\n",
       "      <th></th>\n",
       "      <th>ding</th>\n",
       "      <th>klein</th>\n",
       "      <th>vinden</th>\n",
       "    </tr>\n",
       "  </thead>\n",
       "  <tbody>\n",
       "    <tr>\n",
       "      <th>0</th>\n",
       "      <td>0</td>\n",
       "      <td>1</td>\n",
       "      <td>0</td>\n",
       "    </tr>\n",
       "    <tr>\n",
       "      <th>1</th>\n",
       "      <td>1</td>\n",
       "      <td>0</td>\n",
       "      <td>0</td>\n",
       "    </tr>\n",
       "    <tr>\n",
       "      <th>2</th>\n",
       "      <td>0</td>\n",
       "      <td>0</td>\n",
       "      <td>1</td>\n",
       "    </tr>\n",
       "  </tbody>\n",
       "</table>\n",
       "</div>"
      ]
     },
     "metadata": {},
     "execution_count": 4
    }
   ],
   "metadata": {}
  },
  {
   "cell_type": "markdown",
   "source": [
    "### `tf_idf(data, ngram_range=(1,1))`\r\n",
    "Deze functie returned een dataframe met tf-idf wegingen gegeven een lijst van tokens en een dictionary met de vocabulary in de tokens."
   ],
   "metadata": {}
  },
  {
   "cell_type": "code",
   "execution_count": 6,
   "source": [
    "tokens = ['klein', 'ding', 'vinden']\r\n",
    "tf_idf(tokens, ngram_range=(1, 2))"
   ],
   "outputs": [
    {
     "output_type": "execute_result",
     "data": {
      "text/plain": [
       "(          0    1    2\n",
       " ding    0.0  1.0  0.0\n",
       " klein   1.0  0.0  0.0\n",
       " vinden  0.0  0.0  1.0,\n",
       " {'klein': 1, 'ding': 0, 'vinden': 2})"
      ]
     },
     "metadata": {},
     "execution_count": 6
    }
   ],
   "metadata": {}
  }
 ],
 "metadata": {
  "orig_nbformat": 4,
  "language_info": {
   "name": "python",
   "version": "3.9.4",
   "mimetype": "text/x-python",
   "codemirror_mode": {
    "name": "ipython",
    "version": 3
   },
   "pygments_lexer": "ipython3",
   "nbconvert_exporter": "python",
   "file_extension": ".py"
  },
  "kernelspec": {
   "name": "python3",
   "display_name": "Python 3.9.4 64-bit ('tm-digit': conda)"
  },
  "interpreter": {
   "hash": "e0690e508fef53b99f4ba3845cae9b475c5b0d493f24132d5a231ec68d2eb449"
  }
 },
 "nbformat": 4,
 "nbformat_minor": 2
}